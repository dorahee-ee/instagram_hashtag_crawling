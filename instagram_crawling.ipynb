{
 "cells": [
  {
   "cell_type": "code",
   "execution_count": 1,
   "metadata": {},
   "outputs": [],
   "source": [
    "from selenium import webdriver\n",
    "from selenium.webdriver.common.by import By\n",
    "from selenium.webdriver.common.keys import Keys\n",
    "from bs4 import BeautifulSoup\n",
    "import time\n",
    "import nltk"
   ]
  },
  {
   "cell_type": "code",
   "execution_count": 2,
   "metadata": {},
   "outputs": [],
   "source": [
    "def instagram_search(word):\n",
    "    url = 'https://www.instagram.com/explore/tags/' + str(word)\n",
    "    return url"
   ]
  },
  {
   "cell_type": "code",
   "execution_count": 3,
   "metadata": {},
   "outputs": [],
   "source": [
    "def select_first(driver):\n",
    "    first = driver.find_elements(By.CSS_SELECTOR, 'div._aagw')[0]\n",
    "    first.click()\n",
    "    time.sleep(3)"
   ]
  },
  {
   "cell_type": "code",
   "execution_count": 4,
   "metadata": {},
   "outputs": [],
   "source": [
    "def get_content(driver):\n",
    "    html = driver.page_source\n",
    "    soup = BeautifulSoup(html, 'lxml')\n",
    "    try:\n",
    "        content = soup.select('div._a9zs')[0].text\n",
    "    except:\n",
    "        content = ''\n",
    "\n",
    "    tags = re.findall(r'#[^\\s#,\\\\]+', content)\n",
    "    return tags"
   ]
  },
  {
   "cell_type": "code",
   "execution_count": 5,
   "metadata": {},
   "outputs": [],
   "source": [
    "def move_next(driver):\n",
    "    right = driver.find_element(By.CSS_SELECTOR, 'div._aaqg._aaqh')\n",
    "    right.click()\n",
    "    time.sleep(3)"
   ]
  },
  {
   "cell_type": "code",
   "execution_count": null,
   "metadata": {},
   "outputs": [],
   "source": [
    "driver = webdriver.Chrome()"
   ]
  },
  {
   "cell_type": "code",
   "execution_count": 7,
   "metadata": {},
   "outputs": [],
   "source": [
    "def login(id, pw):\n",
    "    # id와 pw를 입력하는 창의 요소 정보 획득\n",
    "    input = driver.find_elements(By.TAG_NAME, 'input')\n",
    "\n",
    "    # 아이디를 입력\n",
    "    input[0].send_keys(id)\n",
    "\n",
    "    # 비밀번호 입력\n",
    "    input[1].send_keys(pw)\n",
    "\n",
    "    # 엔터\n",
    "    input[1].send_keys(Keys.RETURN)\n",
    "    time.sleep(5)\n",
    "\n",
    "    # 로그인 정보 저장 여부 팝업창 제거 (\"나중에 하기 버튼 클릭\")\n",
    "    btn_later1 = driver.find_element(By.CLASS_NAME, '_acan._acap._acas._aj1-')\n",
    "    btn_later1.click()\n",
    "    time.sleep(5)\n",
    "\n",
    "    # 알림 설정 팝업창 제거 (\"나중에 하기 버튼 클릭\")\n",
    "    btn_later2 = driver.find_element(By.CLASS_NAME, '_a9--._a9_1')\n",
    "    btn_later2.click()"
   ]
  },
  {
   "cell_type": "code",
   "execution_count": 22,
   "metadata": {},
   "outputs": [
    {
     "ename": "TypeError",
     "evalue": "'list' object is not callable",
     "output_type": "error",
     "traceback": [
      "\u001b[1;31m---------------------------------------------------------------------------\u001b[0m",
      "\u001b[1;31mTypeError\u001b[0m                                 Traceback (most recent call last)",
      "Cell \u001b[1;32mIn[22], line 9\u001b[0m\n\u001b[0;32m      6\u001b[0m pw \u001b[39m=\u001b[39m \u001b[39m'\u001b[39m\u001b[39mqwerty1234*\u001b[39m\u001b[39m'\u001b[39m\n\u001b[0;32m      7\u001b[0m login(\u001b[39mid\u001b[39m, pw)\n\u001b[1;32m----> 9\u001b[0m searing_word \u001b[39m=\u001b[39m \u001b[39minput\u001b[39;49m(\u001b[39m'\u001b[39;49m\u001b[39m검색어를 입력하세요 : \u001b[39;49m\u001b[39m'\u001b[39;49m)\n\u001b[0;32m     10\u001b[0m searing_word \u001b[39m=\u001b[39m \u001b[39mstr\u001b[39m(searing_word)\n\u001b[0;32m     11\u001b[0m url \u001b[39m=\u001b[39m instagram_search(searing_word)\n",
      "\u001b[1;31mTypeError\u001b[0m: 'list' object is not callable"
     ]
    }
   ],
   "source": [
    "driver = webdriver.Chrome()\n",
    "\n",
    "driver.get('https://instagram.com')\n",
    "time.sleep(3)\n",
    "id = 'wonnn0801@hufs.ac.kr'\n",
    "pw = 'qwerty1234*'\n",
    "login(id, pw)\n",
    "\n",
    "searing_word = input('검색어를 입력하세요 : ')\n",
    "searing_word = str(searing_word)\n",
    "url = instagram_search(searing_word)"
   ]
  },
  {
   "cell_type": "code",
   "execution_count": 20,
   "metadata": {},
   "outputs": [
    {
     "ename": "NameError",
     "evalue": "name 'url' is not defined",
     "output_type": "error",
     "traceback": [
      "\u001b[1;31m---------------------------------------------------------------------------\u001b[0m",
      "\u001b[1;31mNameError\u001b[0m                                 Traceback (most recent call last)",
      "Cell \u001b[1;32mIn[20], line 1\u001b[0m\n\u001b[1;32m----> 1\u001b[0m driver\u001b[39m.\u001b[39mget(url)\n\u001b[0;32m      2\u001b[0m time\u001b[39m.\u001b[39msleep(\u001b[39m8\u001b[39m)\n\u001b[0;32m      4\u001b[0m select_first(driver)\n",
      "\u001b[1;31mNameError\u001b[0m: name 'url' is not defined"
     ]
    }
   ],
   "source": [
    "driver.get(url)\n",
    "time.sleep(8)\n",
    "\n",
    "select_first(driver)\n",
    "\n",
    "result = []\n",
    "target = 20\n",
    "for i in range(target):\n",
    "\n",
    "    try:\n",
    "        data = get_content(driver)\n",
    "        result.append(data)\n",
    "        move_next(driver)\n",
    "    \n",
    "    except:\n",
    "        time.sleep(2)\n",
    "        move_next(driver)\n",
    "    time.sleep(5)\n",
    "\n",
    "print(result)"
   ]
  },
  {
   "cell_type": "code",
   "execution_count": 12,
   "metadata": {},
   "outputs": [
    {
     "ename": "TypeError",
     "evalue": "'list' object is not callable",
     "output_type": "error",
     "traceback": [
      "\u001b[1;31m---------------------------------------------------------------------------\u001b[0m",
      "\u001b[1;31mTypeError\u001b[0m                                 Traceback (most recent call last)",
      "Cell \u001b[1;32mIn[12], line 23\u001b[0m\n\u001b[0;32m     19\u001b[0m \u001b[39minput\u001b[39m[\u001b[39m1\u001b[39m]\u001b[39m.\u001b[39msend_keys(Keys\u001b[39m.\u001b[39mRETURN)\n\u001b[0;32m     21\u001b[0m time\u001b[39m.\u001b[39msleep(\u001b[39m5\u001b[39m)\n\u001b[1;32m---> 23\u001b[0m word \u001b[39m=\u001b[39m \u001b[39minput\u001b[39;49m(\u001b[39m'\u001b[39;49m\u001b[39m검색어를 입력하세요 : \u001b[39;49m\u001b[39m'\u001b[39;49m)\n\u001b[0;32m     24\u001b[0m word \u001b[39m=\u001b[39m \u001b[39mstr\u001b[39m(word)\n\u001b[0;32m     25\u001b[0m url \u001b[39m=\u001b[39m instagram_search(word)\n",
      "\u001b[1;31mTypeError\u001b[0m: 'list' object is not callable"
     ]
    }
   ],
   "source": [
    "word = input('검색어를 입력하세요 : ')\n",
    "word = str(word)\n",
    "url = instagram_search(word)"
   ]
  },
  {
   "cell_type": "code",
   "execution_count": 14,
   "metadata": {},
   "outputs": [],
   "source": [
    "driver = webdriver.Chrome()\n",
    "\n",
    "driver.get('https://instagram.com')\n",
    "time.sleep(3)\n",
    "email = 'wonnn0801@hufs.ac.kr'\n",
    "pw = 'qwerty1234*'\n",
    "login(email, pw)\n",
    "\n",
    "# _keyword = input('검색어를 입력하세요 : ')\n",
    "_keyword = 'chelsea'\n",
    "driver.get('https://www.instagram.com/explore/tags/' + _keyword + '/')\n",
    "time.sleep(5)\n",
    "\n",
    "first = driver.find_elements(By.CSS_SELECTOR, 'div._aagw')[0]\n",
    "first.click()\n",
    "time.sleep(5)"
   ]
  },
  {
   "cell_type": "code",
   "execution_count": 28,
   "metadata": {},
   "outputs": [
    {
     "name": "stdout",
     "output_type": "stream",
     "text": [
      "10번째 게시물 완료\n"
     ]
    }
   ],
   "source": [
    "results = []\n",
    "count = 10\n",
    "for i in range(count):\n",
    "    data = driver.find_elements(By.CSS_SELECTOR, 'a._aa9_._a6hd') # 해쉬태그 정보 저장\n",
    "    for j in range(len(data)):\n",
    "        results.append(data[j].text.replace(\"#\",\"\")) # '#'없애기\n",
    "    driver.find_element(By.CSS_SELECTOR, 'div._aaqg._aaqh').click() #다음 게시물로 이동"
   ]
  },
  {
   "cell_type": "code",
   "execution_count": 29,
   "metadata": {},
   "outputs": [
    {
     "data": {
      "text/plain": [
       "['viral',\n",
       " 'fypシ',\n",
       " 'parati',\n",
       " 'enzofernandez',\n",
       " 'dontflop',\n",
       " 'enzofernandez',\n",
       " 'edit',\n",
       " 'alvarez',\n",
       " 'mancity',\n",
       " 'chelsea',\n",
       " 'notcopyright',\n",
       " 'ManCity',\n",
       " 'Haaland',\n",
       " 'ErlingHaaland',\n",
       " 'PremierLeague',\n",
       " 'Julián',\n",
       " 'JulianAlvarez',\n",
       " 'Enzo',\n",
       " 'EnzoFernandez',\n",
       " 'ChelseaFc',\n",
       " 'ManCityChampions',\n",
       " 'JoãoFélix',\n",
       " 'Viral',\n",
       " 'foryou',\n",
       " 'fyp',\n",
       " 'summer',\n",
       " 'holiday',\n",
       " 'boutique',\n",
       " 'weekend',\n",
       " 'cheshire',\n",
       " 'cheshirelife',\n",
       " 'chester',\n",
       " 'wirral',\n",
       " 'spital',\n",
       " 'heswall',\n",
       " 'northwich',\n",
       " 'cuddington',\n",
       " 'warrington',\n",
       " 'chelford',\n",
       " 'knutsford',\n",
       " 'mobberley',\n",
       " 'davenham',\n",
       " 'greasby',\n",
       " 'hartford',\n",
       " 'Sale',\n",
       " 'Didsbury',\n",
       " 'Wilmslow',\n",
       " 'Chelsea',\n",
       " 'Kensington',\n",
       " 'Races',\n",
       " 'Wedding',\n",
       " 'Partywear',\n",
       " 'vicario',\n",
       " 'onana',\n",
       " 'inter',\n",
       " 'chelsea',\n",
       " 'empoli',\n",
       " 'tuttomercatoweb',\n",
       " 'tmw',\n",
       " 'chelsea',\n",
       " 'kitdetreino',\n",
       " 'camisasdetimes',\n",
       " 'cabenoseubolso',\n",
       " 'explorepage',\n",
       " 'chelsea',\n",
       " 'kitdetreino',\n",
       " 'camisasdetimes',\n",
       " 'cabenoseubolso',\n",
       " 'explorepage',\n",
       " 'kante',\n",
       " 'france',\n",
       " 'saudi',\n",
       " 'arabia',\n",
       " 'riyadh',\n",
       " 'football',\n",
       " 'pl',\n",
       " 'transfers',\n",
       " 'chelsea',\n",
       " 'cfc',\n",
       " 'donedeal',\n",
       " 'herewego',\n",
       " 'CFC',\n",
       " 'chelsea',\n",
       " 'chelseafc',\n",
       " 'futbol',\n",
       " 'ucl',\n",
       " 'nacion1905',\n",
       " 'premierleague',\n",
       " 'prideoflondon',\n",
       " 'stamfordbridge',\n",
       " 'ngolokante',\n",
       " 'kante',\n",
       " 'transferbolainfo',\n",
       " 'transferbola',\n",
       " 'transfersepakbola',\n",
       " 'infobola',\n",
       " 'summer',\n",
       " 'holiday',\n",
       " 'boutique',\n",
       " 'weekend',\n",
       " 'cheshire',\n",
       " 'cheshirelife',\n",
       " 'chester',\n",
       " 'wirral',\n",
       " 'spital',\n",
       " 'heswall',\n",
       " 'northwich',\n",
       " 'cuddington',\n",
       " 'warrington',\n",
       " 'chelford',\n",
       " 'knutsford',\n",
       " 'mobberley',\n",
       " 'davenham',\n",
       " 'greasby',\n",
       " 'hartford',\n",
       " 'Sale',\n",
       " 'Didsbury',\n",
       " 'Wilmslow',\n",
       " 'Chelsea',\n",
       " 'Kensington',\n",
       " 'Races',\n",
       " 'Wedding',\n",
       " 'Partywear']"
      ]
     },
     "execution_count": 29,
     "metadata": {},
     "output_type": "execute_result"
    }
   ],
   "source": [
    "resultss"
   ]
  },
  {
   "cell_type": "code",
   "execution_count": 30,
   "metadata": {},
   "outputs": [
    {
     "name": "stdout",
     "output_type": "stream",
     "text": [
      "[('chelsea', 6), ('enzofernandez', 2), ('summer', 2), ('holiday', 2), ('boutique', 2), ('weekend', 2), ('cheshire', 2), ('cheshirelife', 2), ('chester', 2), ('wirral', 2), ('spital', 2), ('heswall', 2), ('northwich', 2), ('cuddington', 2), ('warrington', 2), ('chelford', 2), ('knutsford', 2), ('mobberley', 2), ('davenham', 2), ('greasby', 2), ('hartford', 2), ('Sale', 2), ('Didsbury', 2), ('Wilmslow', 2), ('Chelsea', 2), ('Kensington', 2), ('Races', 2), ('Wedding', 2), ('Partywear', 2), ('kitdetreino', 2)]\n"
     ]
    }
   ],
   "source": [
    "import nltk\n",
    " \n",
    "results_str = \" \".join(results) # 결과값 list to string\n",
    "tokens = results_str.split(\" \") # 각 단어별로 떼어 내서\n",
    "text = nltk.Text(tokens) # text에 저장하고\n",
    "topWord = text.vocab().most_common(30) # 가장 많이 등장하는 30개의 단어를 추려낸다.\n",
    "print(topWord)"
   ]
  },
  {
   "attachments": {},
   "cell_type": "markdown",
   "metadata": {},
   "source": []
  },
  {
   "attachments": {},
   "cell_type": "markdown",
   "metadata": {},
   "source": []
  },
  {
   "cell_type": "code",
   "execution_count": 1,
   "metadata": {},
   "outputs": [],
   "source": [
    "from selenium import webdriver\n",
    "from selenium.webdriver.common.by import By\n",
    "from selenium.webdriver.common.keys import Keys\n",
    "from bs4 import BeautifulSoup\n",
    "import time\n",
    "import nltk"
   ]
  },
  {
   "cell_type": "code",
   "execution_count": 2,
   "metadata": {},
   "outputs": [],
   "source": [
    "def login(id, pw):\n",
    "    # id와 pw를 입력하는 창의 요소 정보 획득\n",
    "    input = driver.find_elements(By.TAG_NAME, 'input')\n",
    "\n",
    "    # 아이디를 입력\n",
    "    input[0].send_keys(id)\n",
    "\n",
    "    # 비밀번호 입력\n",
    "    input[1].send_keys(pw)\n",
    "\n",
    "    # 엔터\n",
    "    input[1].send_keys(Keys.RETURN)\n",
    "    time.sleep(5)\n",
    "\n",
    "    # 로그인 정보 저장 여부 팝업창 제거 (\"나중에 하기 버튼 클릭\")\n",
    "    btn_later1 = driver.find_element(By.CLASS_NAME, '_acan._acap._acas._aj1-')\n",
    "    btn_later1.click()\n",
    "    time.sleep(5)\n",
    "\n",
    "    # 알림 설정 팝업창 제거 (\"나중에 하기 버튼 클릭\")\n",
    "    btn_later2 = driver.find_element(By.CLASS_NAME, '_a9--._a9_1')\n",
    "    btn_later2.click()"
   ]
  },
  {
   "cell_type": "code",
   "execution_count": 3,
   "metadata": {},
   "outputs": [],
   "source": [
    "driver = webdriver.Chrome()\n",
    "\n",
    "driver.get('https://instagram.com')\n",
    "time.sleep(3)\n",
    "email = 'wonnn0801@hufs.ac.kr'\n",
    "pw = 'qwerty1234*'\n",
    "login(email, pw)\n",
    "\n",
    "# _keyword = input('검색어를 입력하세요 : ')\n",
    "_keyword = 'chelsea'\n",
    "driver.get('https://www.instagram.com/explore/tags/' + _keyword + '/')\n",
    "time.sleep(5)\n",
    "\n",
    "first = driver.find_elements(By.CSS_SELECTOR, 'div._aagw')[0]\n",
    "first.click()\n",
    "time.sleep(5)"
   ]
  },
  {
   "cell_type": "code",
   "execution_count": 4,
   "metadata": {},
   "outputs": [],
   "source": [
    "results = []\n",
    "count = 10\n",
    "for i in range(count):\n",
    "    data = driver.find_elements(By.CSS_SELECTOR, 'a._aa9_._a6hd') # 해쉬태그 정보 저장\n",
    "    for j in range(len(data)):\n",
    "        results.append(data[j].text.replace(\"#\",\"\")) # '#'없애기\n",
    "    driver.find_element(By.CSS_SELECTOR, 'div._aaqg._aaqh').click() #다음 게시물로 이동"
   ]
  },
  {
   "cell_type": "code",
   "execution_count": 8,
   "metadata": {},
   "outputs": [
    {
     "name": "stdout",
     "output_type": "stream",
     "text": [
      "['realmadrid', 'chelsea', 'mbappe', 'Francia', 'Futbol', 'Chelsea', 'notforeveryone', 'interisti', 'seriea', 'cfc']\n"
     ]
    }
   ],
   "source": [
    "hash_tags = []\n",
    "results_str = \" \".join(results) # 결과값 list to string\n",
    "tokens = results_str.split(\" \") # 각 단어별로 떼어 내서\n",
    "text = nltk.Text(tokens) # text에 저장하고\n",
    "topWord = text.vocab().most_common(10) # 가장 많이 등장하는 10개의 단어를 추려낸다.\n",
    "for word, count in topWord:\n",
    "    hash_tags.append(word)\n",
    "print(hash_tags)"
   ]
  },
  {
   "cell_type": "code",
   "execution_count": null,
   "metadata": {},
   "outputs": [],
   "source": []
  },
  {
   "attachments": {},
   "cell_type": "markdown",
   "metadata": {},
   "source": [
    "### Instagram에서 게시글의 해쉬태그를 크롤링한 후 많이 태그된 5개의 해쉬태그 뽑기"
   ]
  },
  {
   "attachments": {},
   "cell_type": "markdown",
   "metadata": {},
   "source": [
    "#### 1. 필요한 라이브러리 설치"
   ]
  },
  {
   "cell_type": "code",
   "execution_count": 1,
   "metadata": {},
   "outputs": [],
   "source": [
    "from selenium import webdriver\n",
    "from selenium.webdriver.common.by import By\n",
    "from selenium.webdriver.common.keys import Keys\n",
    "import time\n",
    "import nltk"
   ]
  },
  {
   "cell_type": "code",
   "execution_count": 2,
   "metadata": {},
   "outputs": [],
   "source": [
    "driver = webdriver.Chrome()"
   ]
  },
  {
   "cell_type": "code",
   "execution_count": null,
   "metadata": {},
   "outputs": [],
   "source": [
    "def login(id, pw):\n",
    "    # id와 pw를 입력하는 창의 요소 정보 획득\n",
    "    input = driver.find_elements(By.TAG_NAME, 'input')\n",
    "\n",
    "    # 아이디를 입력\n",
    "    input[0].send_keys(id)\n",
    "\n",
    "    # 비밀번호 입력\n",
    "    input[1].send_keys(pw)\n",
    "\n",
    "    # 엔터\n",
    "    input[1].send_keys(Keys.RETURN)\n",
    "    time.sleep(5)\n",
    "\n",
    "    # 로그인 정보 저장 여부 팝업창 제거\n",
    "    btn_later1 = driver.find_element(By.CLASS_NAME, '_acan._acap._acas._aj1-')\n",
    "    btn_later1.click()\n",
    "    time.sleep(5)\n",
    "\n",
    "    # 알림 설정 팝업창 제거\n",
    "    btn_later2 = driver.find_element(By.CLASS_NAME, '_a9--._a9_1')\n",
    "    btn_later2.click()"
   ]
  },
  {
   "cell_type": "code",
   "execution_count": null,
   "metadata": {},
   "outputs": [],
   "source": [
    "driver.get('https://instagram.com')\n",
    "time.sleep(3)\n",
    "email = ''  # 인스타그램 계정 or ID\n",
    "pw = ''  # 비밀번호\n",
    "login(email, pw)"
   ]
  },
  {
   "cell_type": "code",
   "execution_count": null,
   "metadata": {},
   "outputs": [],
   "source": [
    "_keyword = input('검색어를 입력하세요 : ')\n",
    "driver.get('https://www.instagram.com/explore/tags/' + _keyword + '/')\n",
    "time.sleep(5)"
   ]
  },
  {
   "cell_type": "code",
   "execution_count": null,
   "metadata": {},
   "outputs": [],
   "source": [
    "first = driver.find_elements(By.CSS_SELECTOR, 'div._aagw')[0]\n",
    "first.click()\n",
    "time.sleep(5)"
   ]
  },
  {
   "cell_type": "code",
   "execution_count": null,
   "metadata": {},
   "outputs": [],
   "source": [
    "results = []\n",
    "count = 100 # 크롤링할 게시글 개수 (100개)\n",
    "for i in range(count):\n",
    "    data = driver.find_elements(By.CSS_SELECTOR, 'a._aa9_._a6hd') # 해쉬태그 정보 저장\n",
    "    for j in range(len(data)):\n",
    "        results.append(data[j].text.replace(\"#\",\"\")) # '#'없애기\n",
    "    driver.find_element(By.CSS_SELECTOR, 'div._aaqg._aaqh').click() #다음 게시물로 이동\n",
    "\n",
    "hash_tags = []\n",
    "results_str = \" \".join(results) # 결과값 list to string\n",
    "tokens = results_str.split(\" \") # 각 단어별로 떼어 내서\n",
    "text = nltk.Text(tokens) # text에 저장하고\n",
    "topWord = text.vocab().most_common(10) # 해쉬태그 개수 (10개)\n",
    "for word, count in topWord:\n",
    "    hash_tags.append(word)\n",
    "print(hash_tags)\n",
    "\n",
    "driver.quit()"
   ]
  }
 ],
 "metadata": {
  "kernelspec": {
   "display_name": "Python 3",
   "language": "python",
   "name": "python3"
  },
  "language_info": {
   "codemirror_mode": {
    "name": "ipython",
    "version": 3
   },
   "file_extension": ".py",
   "mimetype": "text/x-python",
   "name": "python",
   "nbconvert_exporter": "python",
   "pygments_lexer": "ipython3",
   "version": "3.11.3"
  },
  "orig_nbformat": 4
 },
 "nbformat": 4,
 "nbformat_minor": 2
}
